{
  "nbformat": 4,
  "nbformat_minor": 0,
  "metadata": {
    "colab": {
      "name": "suds-colab",
      "provenance": [],
      "collapsed_sections": [],
      "include_colab_link": true
    },
    "kernelspec": {
      "name": "python3",
      "display_name": "Python 3"
    }
  },
  "cells": [
    {
      "cell_type": "markdown",
      "metadata": {
        "id": "view-in-github",
        "colab_type": "text"
      },
      "source": [
        "<a href=\"https://colab.research.google.com/github/pkla/SUDS-FII-test/blob/master/suds_colab.ipynb\" target=\"_parent\"><img src=\"https://colab.research.google.com/assets/colab-badge.svg\" alt=\"Open In Colab\"/></a>"
      ]
    },
    {
      "cell_type": "markdown",
      "metadata": {
        "id": "hPA0kNT_5Lps",
        "colab_type": "text"
      },
      "source": [
        "#Cloning a Github repository#"
      ]
    },
    {
      "cell_type": "code",
      "metadata": {
        "id": "VZt1C9kh343F",
        "colab_type": "code",
        "colab": {
          "base_uri": "https://localhost:8080/",
          "height": 118
        },
        "outputId": "9214c2c6-45b1-4108-9723-2f47ec9dfe3d"
      },
      "source": [
        "!git clone https://github.com/pkla/SUDS-FII-test"
      ],
      "execution_count": 12,
      "outputs": [
        {
          "output_type": "stream",
          "text": [
            "Cloning into 'SUDS-FII-test'...\n",
            "remote: Enumerating objects: 13, done.\u001b[K\n",
            "remote: Counting objects:   7% (1/13)\u001b[K\rremote: Counting objects:  15% (2/13)\u001b[K\rremote: Counting objects:  23% (3/13)\u001b[K\rremote: Counting objects:  30% (4/13)\u001b[K\rremote: Counting objects:  38% (5/13)\u001b[K\rremote: Counting objects:  46% (6/13)\u001b[K\rremote: Counting objects:  53% (7/13)\u001b[K\rremote: Counting objects:  61% (8/13)\u001b[K\rremote: Counting objects:  69% (9/13)\u001b[K\rremote: Counting objects:  76% (10/13)\u001b[K\rremote: Counting objects:  84% (11/13)\u001b[K\rremote: Counting objects:  92% (12/13)\u001b[K\rremote: Counting objects: 100% (13/13)\u001b[K\rremote: Counting objects: 100% (13/13), done.\u001b[K\n",
            "remote: Compressing objects:   8% (1/12)\u001b[K\rremote: Compressing objects:  16% (2/12)\u001b[K\rremote: Compressing objects:  25% (3/12)\u001b[K\rremote: Compressing objects:  33% (4/12)\u001b[K\rremote: Compressing objects:  41% (5/12)\u001b[K\rremote: Compressing objects:  50% (6/12)\u001b[K\rremote: Compressing objects:  58% (7/12)\u001b[K\rremote: Compressing objects:  66% (8/12)\u001b[K\rremote: Compressing objects:  75% (9/12)\u001b[K\rremote: Compressing objects:  83% (10/12)\u001b[K\rremote: Compressing objects:  91% (11/12)\u001b[K\rremote: Compressing objects: 100% (12/12)\u001b[K\rremote: Compressing objects: 100% (12/12), done.\u001b[K\n",
            "remote: Total 13 (delta 1), reused 3 (delta 0), pack-reused 0\u001b[K\n",
            "Unpacking objects:   7% (1/13)   \rUnpacking objects:  15% (2/13)   \rUnpacking objects:  23% (3/13)   \rUnpacking objects:  30% (4/13)   \rUnpacking objects:  38% (5/13)   \rUnpacking objects:  46% (6/13)   \rUnpacking objects:  53% (7/13)   \rUnpacking objects:  61% (8/13)   \rUnpacking objects:  69% (9/13)   \rUnpacking objects:  76% (10/13)   \rUnpacking objects:  84% (11/13)   \rUnpacking objects:  92% (12/13)   \rUnpacking objects: 100% (13/13)   \rUnpacking objects: 100% (13/13), done.\n"
          ],
          "name": "stdout"
        }
      ]
    },
    {
      "cell_type": "markdown",
      "metadata": {
        "id": "l1xnHXkM5Wiz",
        "colab_type": "text"
      },
      "source": [
        "#Importing data from cloned repository#"
      ]
    },
    {
      "cell_type": "code",
      "metadata": {
        "id": "YaQfdMzY4x17",
        "colab_type": "code",
        "colab": {
          "base_uri": "https://localhost:8080/",
          "height": 34
        },
        "outputId": "104bb851-0220-4e0e-d93e-3b99e514da6e"
      },
      "source": [
        "!ls SUDS-FII-test/"
      ],
      "execution_count": 13,
      "outputs": [
        {
          "output_type": "stream",
          "text": [
            "noaa-test-data.csv  README.md  suds_colab.ipynb\n"
          ],
          "name": "stdout"
        }
      ]
    },
    {
      "cell_type": "code",
      "metadata": {
        "id": "LltiF6HS41kI",
        "colab_type": "code",
        "colab": {
          "base_uri": "https://localhost:8080/",
          "height": 343
        },
        "outputId": "e41ae282-b80b-46a3-9ac1-9e65d91e2787"
      },
      "source": [
        "import pandas as pd\n",
        "# some sample oceanographic data\n",
        "df = pd.read_csv('SUDS-FII-test/noaa-test-data.csv')\n",
        "df"
      ],
      "execution_count": 14,
      "outputs": [
        {
          "output_type": "execute_result",
          "data": {
            "text/html": [
              "<div>\n",
              "<style scoped>\n",
              "    .dataframe tbody tr th:only-of-type {\n",
              "        vertical-align: middle;\n",
              "    }\n",
              "\n",
              "    .dataframe tbody tr th {\n",
              "        vertical-align: top;\n",
              "    }\n",
              "\n",
              "    .dataframe thead th {\n",
              "        text-align: right;\n",
              "    }\n",
              "</style>\n",
              "<table border=\"1\" class=\"dataframe\">\n",
              "  <thead>\n",
              "    <tr style=\"text-align: right;\">\n",
              "      <th></th>\n",
              "      <th>STATION</th>\n",
              "      <th>DATE</th>\n",
              "      <th>LATITUDE</th>\n",
              "      <th>LONGITUDE</th>\n",
              "      <th>WIND_DIR</th>\n",
              "      <th>WIND_SPEED</th>\n",
              "    </tr>\n",
              "  </thead>\n",
              "  <tbody>\n",
              "    <tr>\n",
              "      <th>0</th>\n",
              "      <td>AUCE</td>\n",
              "      <td>2016-01-01T00:09:00</td>\n",
              "      <td>-20.2</td>\n",
              "      <td>57.5</td>\n",
              "      <td>90</td>\n",
              "      <td>40</td>\n",
              "    </tr>\n",
              "    <tr>\n",
              "      <th>1</th>\n",
              "      <td>AUCE</td>\n",
              "      <td>2016-01-01T21:09:00</td>\n",
              "      <td>-20.2</td>\n",
              "      <td>57.5</td>\n",
              "      <td>20</td>\n",
              "      <td>20</td>\n",
              "    </tr>\n",
              "    <tr>\n",
              "      <th>2</th>\n",
              "      <td>AUCE</td>\n",
              "      <td>2016-01-02T00:09:00</td>\n",
              "      <td>-20.2</td>\n",
              "      <td>57.5</td>\n",
              "      <td>350</td>\n",
              "      <td>20</td>\n",
              "    </tr>\n",
              "    <tr>\n",
              "      <th>3</th>\n",
              "      <td>AUCE</td>\n",
              "      <td>2016-01-02T03:09:00</td>\n",
              "      <td>-20.2</td>\n",
              "      <td>57.5</td>\n",
              "      <td>340</td>\n",
              "      <td>20</td>\n",
              "    </tr>\n",
              "    <tr>\n",
              "      <th>4</th>\n",
              "      <td>AUCE</td>\n",
              "      <td>2016-01-02T06:09:00</td>\n",
              "      <td>-20.2</td>\n",
              "      <td>57.5</td>\n",
              "      <td>350</td>\n",
              "      <td>30</td>\n",
              "    </tr>\n",
              "    <tr>\n",
              "      <th>5</th>\n",
              "      <td>AUCE</td>\n",
              "      <td>2016-01-02T09:09:00</td>\n",
              "      <td>-20.2</td>\n",
              "      <td>57.5</td>\n",
              "      <td>330</td>\n",
              "      <td>30</td>\n",
              "    </tr>\n",
              "    <tr>\n",
              "      <th>6</th>\n",
              "      <td>AUCE</td>\n",
              "      <td>2016-01-02T12:09:00</td>\n",
              "      <td>-20.2</td>\n",
              "      <td>57.5</td>\n",
              "      <td>330</td>\n",
              "      <td>40</td>\n",
              "    </tr>\n",
              "    <tr>\n",
              "      <th>7</th>\n",
              "      <td>AUCE</td>\n",
              "      <td>2016-01-02T15:09:00</td>\n",
              "      <td>-20.2</td>\n",
              "      <td>57.5</td>\n",
              "      <td>330</td>\n",
              "      <td>10</td>\n",
              "    </tr>\n",
              "    <tr>\n",
              "      <th>8</th>\n",
              "      <td>AUCE</td>\n",
              "      <td>2016-01-02T18:09:00</td>\n",
              "      <td>-20.2</td>\n",
              "      <td>57.5</td>\n",
              "      <td>300</td>\n",
              "      <td>30</td>\n",
              "    </tr>\n",
              "    <tr>\n",
              "      <th>9</th>\n",
              "      <td>AUCE</td>\n",
              "      <td>2016-01-02T21:09:00</td>\n",
              "      <td>-20.2</td>\n",
              "      <td>57.5</td>\n",
              "      <td>320</td>\n",
              "      <td>20</td>\n",
              "    </tr>\n",
              "  </tbody>\n",
              "</table>\n",
              "</div>"
            ],
            "text/plain": [
              "  STATION                 DATE  LATITUDE  LONGITUDE  WIND_DIR  WIND_SPEED\n",
              "0    AUCE  2016-01-01T00:09:00     -20.2       57.5        90          40\n",
              "1    AUCE  2016-01-01T21:09:00     -20.2       57.5        20          20\n",
              "2    AUCE  2016-01-02T00:09:00     -20.2       57.5       350          20\n",
              "3    AUCE  2016-01-02T03:09:00     -20.2       57.5       340          20\n",
              "4    AUCE  2016-01-02T06:09:00     -20.2       57.5       350          30\n",
              "5    AUCE  2016-01-02T09:09:00     -20.2       57.5       330          30\n",
              "6    AUCE  2016-01-02T12:09:00     -20.2       57.5       330          40\n",
              "7    AUCE  2016-01-02T15:09:00     -20.2       57.5       330          10\n",
              "8    AUCE  2016-01-02T18:09:00     -20.2       57.5       300          30\n",
              "9    AUCE  2016-01-02T21:09:00     -20.2       57.5       320          20"
            ]
          },
          "metadata": {
            "tags": []
          },
          "execution_count": 14
        }
      ]
    },
    {
      "cell_type": "markdown",
      "metadata": {
        "id": "Mcoxu3uu5o4H",
        "colab_type": "text"
      },
      "source": [
        "#Importing data from Google Drive#\n",
        "Mounts your google drive and allows you to read/write files."
      ]
    },
    {
      "cell_type": "code",
      "metadata": {
        "id": "y7flKC7n9ule",
        "colab_type": "code",
        "colab": {
          "base_uri": "https://localhost:8080/",
          "height": 34
        },
        "outputId": "73b354de-4b4a-4d93-ad68-d69b31a7d8ec"
      },
      "source": [
        "from google.colab import drive\n",
        "drive.mount('/content/gdrive')"
      ],
      "execution_count": 15,
      "outputs": [
        {
          "output_type": "stream",
          "text": [
            "Mounted at /content/gdrive\n"
          ],
          "name": "stdout"
        }
      ]
    }
  ]
}